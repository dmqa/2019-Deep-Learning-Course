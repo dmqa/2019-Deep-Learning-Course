{
  "nbformat": 4,
  "nbformat_minor": 0,
  "metadata": {
    "colab": {
      "name": "gradCAM.ipynb",
      "version": "0.3.2",
      "provenance": [],
      "collapsed_sections": []
    },
    "kernelspec": {
      "name": "python3",
      "display_name": "Python 3"
    }
  },
  "cells": [
    {
      "cell_type": "markdown",
      "metadata": {
        "id": "4_wafHMMHYta",
        "colab_type": "text"
      },
      "source": [
        "<모듈 불러오기>"
      ]
    },
    {
      "cell_type": "code",
      "metadata": {
        "id": "XGOKB9Om-RM5",
        "colab_type": "code",
        "colab": {}
      },
      "source": [
        "import cv2\n",
        "import torch\n",
        "import torch.nn as nn\n",
        "from torchvision.models import vgg16\n",
        "from torchvision import transforms\n",
        "import matplotlib.pyplot as plt\n",
        "import numpy as np\n",
        "from PIL import Image\n"
      ],
      "execution_count": 0,
      "outputs": []
    },
    {
      "cell_type": "markdown",
      "metadata": {
        "id": "L3NPZ9KUHiDz",
        "colab_type": "text"
      },
      "source": [
        "<GPU 확인>"
      ]
    },
    {
      "cell_type": "code",
      "metadata": {
        "id": "f_oZ8TkcHAMP",
        "colab_type": "code",
        "colab": {}
      },
      "source": [
        "device = torch.device('cuda')"
      ],
      "execution_count": 0,
      "outputs": []
    },
    {
      "cell_type": "markdown",
      "metadata": {
        "id": "jgy-2kG_IUGu",
        "colab_type": "text"
      },
      "source": [
        "<VGG 모델 정의>"
      ]
    },
    {
      "cell_type": "code",
      "metadata": {
        "id": "CeE99K0HHBY7",
        "colab_type": "code",
        "colab": {}
      },
      "source": [
        "class VGG(nn.Module):\n",
        "    def __init__(self):\n",
        "        super(VGG, self).__init__()\n",
        "\n",
        "        # get the pretrained VGG19 network\n",
        "        self.vgg = vgg16(pretrained=True)\n",
        "\n",
        "        # disect the network to access its last convolutional layer\n",
        "        self.features_conv = self.vgg.features[:36]\n",
        "\n",
        "        # get the classifier of the vgg19\n",
        "        self.classifier = self.vgg.classifier\n",
        "\n",
        "        # placeholder for the gradients\n",
        "        self.gradients = None\n",
        "\n",
        "    # hook for the gradients of the activations\n",
        "    def activations_hook(self, grad):\n",
        "        self.gradients = grad\n",
        "\n",
        "    def forward(self, x):\n",
        "        x = self.features_conv(x)\n",
        "\n",
        "        # register the hook\n",
        "        h = x.register_hook(self.activations_hook)\n",
        "        x = x.view((1, -1))\n",
        "        x = self.classifier(x)\n",
        "        return x\n",
        "\n",
        "    # method for the gradient extraction\n",
        "    def get_activations_gradient(self):\n",
        "        return self.gradients\n",
        "\n",
        "    # method for the activation extraction\n",
        "    def get_activations(self, x):\n",
        "        return self.features_conv(x)"
      ],
      "execution_count": 0,
      "outputs": []
    },
    {
      "cell_type": "markdown",
      "metadata": {
        "id": "-dpr6OhtHuYY",
        "colab_type": "text"
      },
      "source": [
        "<모델 선언>"
      ]
    },
    {
      "cell_type": "code",
      "metadata": {
        "id": "ChXc5k5EHDDT",
        "colab_type": "code",
        "colab": {}
      },
      "source": [
        "# initialize the VGG model\n",
        "vgg = VGG().to(device)\n",
        "\n",
        "# set the evaluation mode\n",
        "vgg.eval()"
      ],
      "execution_count": 0,
      "outputs": []
    },
    {
      "cell_type": "markdown",
      "metadata": {
        "id": "_McU_8ErHxqJ",
        "colab_type": "text"
      },
      "source": [
        "<이미지 불러오기>"
      ]
    },
    {
      "cell_type": "code",
      "metadata": {
        "id": "939U02q7HHSY",
        "colab_type": "code",
        "colab": {}
      },
      "source": [
        "img = Image.open(\"cute.jpg\")\n",
        "img = np.asarray(img)\n",
        "img = cv2.resize(img, (224, 224))\n",
        "img = img.transpose([2, 0, 1])\n",
        "img = img.astype('float32')\n",
        "img /= 255.\n"
      ],
      "execution_count": 0,
      "outputs": []
    },
    {
      "cell_type": "markdown",
      "metadata": {
        "id": "CPlK7eUiH4G8",
        "colab_type": "text"
      },
      "source": [
        "<이미지 모델에 전달하기 (예측)>"
      ]
    },
    {
      "cell_type": "code",
      "metadata": {
        "id": "VMsS12TiHKaU",
        "colab_type": "code",
        "colab": {}
      },
      "source": [
        "img = np.expand_dims(img, 0)\n",
        "img = torch.tensor(img).to(device)\n",
        "pred = vgg(img)\n",
        "pred.argmax(dim=1)"
      ],
      "execution_count": 0,
      "outputs": []
    },
    {
      "cell_type": "markdown",
      "metadata": {
        "id": "3qY0RJ3xH9OT",
        "colab_type": "text"
      },
      "source": [
        "<Imagenet 데이터 클래스명 확인>"
      ]
    },
    {
      "cell_type": "code",
      "metadata": {
        "id": "6NS-aRk0HM8-",
        "colab_type": "code",
        "colab": {}
      },
      "source": [
        "predicted = pred.cpu().detach().numpy()[0]\n",
        "candidate = predicted.argsort()[-5:][::-1]\n",
        "\n",
        "import json\n",
        "class_idx = json.load(open(\"imagenet_class_index.json\"))\n",
        "class_idx['285']\n",
        "\n",
        "for c in candidate:\n",
        "    print(class_idx[str(c)])"
      ],
      "execution_count": 0,
      "outputs": []
    },
    {
      "cell_type": "markdown",
      "metadata": {
        "id": "eCftb6gEH8mO",
        "colab_type": "text"
      },
      "source": [
        "<grad-CAM 코드>"
      ]
    },
    {
      "cell_type": "code",
      "metadata": {
        "id": "X7J_GGBuHN-y",
        "colab_type": "code",
        "colab": {}
      },
      "source": [
        "# get the gradient of the output with respect to the parameters of the model\n",
        "pred[:, 285].backward()\n",
        "\n",
        "# pull the gradients out of the model\n",
        "gradients = vgg.get_activations_gradient()\n",
        "\n",
        "# pool the gradients across the channels\n",
        "pooled_gradients = torch.mean(gradients, dim=[0, 2, 3])\n",
        "\n",
        "# get the activations of the last convolutional layer\n",
        "activations = vgg.get_activations(img).detach()\n",
        "\n",
        "# weight the channels by corresponding gradients\n",
        "for i in range(512):\n",
        "    activations[:, i, :, :] *= pooled_gradients[i]\n",
        "\n",
        "# average the channels of the activations\n",
        "heatmap = torch.mean(activations, dim=1).squeeze()\n",
        "\n",
        "# relu on top of the heatmap\n",
        "# expression (2) in https://arxiv.org/pdf/1610.02391.pdf\n",
        "heatmap = np.maximum(heatmap.to('cpu'), 0)\n",
        "\n",
        "# normalize the heatmap\n",
        "heatmap /= torch.max(heatmap)\n",
        "\n",
        "# draw the heatmap\n",
        "plt.matshow(heatmap.squeeze())\n",
        "plt.show()"
      ],
      "execution_count": 0,
      "outputs": []
    },
    {
      "cell_type": "markdown",
      "metadata": {
        "id": "PMlYPEbAIGaz",
        "colab_type": "text"
      },
      "source": [
        "<히트맵 그리기>"
      ]
    },
    {
      "cell_type": "code",
      "metadata": {
        "id": "FUHkD3G3HW1d",
        "colab_type": "code",
        "colab": {}
      },
      "source": [
        "img = Image.open(\"cute.jpg\")\n",
        "img = np.asarray(img)\n",
        "img = cv2.resize(img, (224, 224))\n",
        "\n",
        "heatmap = cv2.resize(heatmap.numpy(), (img.shape[1], img.shape[0]))\n",
        "heatmap = np.uint8(255 * heatmap)\n",
        "heatmap = cv2.applyColorMap(heatmap, cv2.COLORMAP_JET)\n",
        "superimposed_img = heatmap * 0.4 + img\n",
        "cv2.imwrite('map.jpg', superimposed_img)"
      ],
      "execution_count": 0,
      "outputs": []
    }
  ]
}