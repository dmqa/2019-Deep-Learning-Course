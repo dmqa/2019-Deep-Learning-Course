{
  "nbformat": 4,
  "nbformat_minor": 0,
  "metadata": {
    "colab": {
      "name": "CNN_vision.ipynb",
      "version": "0.3.2",
      "provenance": []
    },
    "kernelspec": {
      "name": "python3",
      "display_name": "Python 3"
    },
    "accelerator": "GPU"
  },
  "cells": [
    {
      "cell_type": "markdown",
      "metadata": {
        "id": "sTo5nYSlQMbm",
        "colab_type": "text"
      },
      "source": [
        "# **MNIST CNN**"
      ]
    },
    {
      "cell_type": "markdown",
      "metadata": {
        "id": "krVK_y_FQVMa",
        "colab_type": "text"
      },
      "source": [
        "<모듈 임포트>"
      ]
    },
    {
      "cell_type": "code",
      "metadata": {
        "id": "0zASl1VbQXcW",
        "colab_type": "code",
        "colab": {}
      },
      "source": [
        "import torch\n",
        "from torch import nn as nn\n",
        "from torchvision import datasets\n",
        "from torchvision import transforms"
      ],
      "execution_count": 0,
      "outputs": []
    },
    {
      "cell_type": "markdown",
      "metadata": {
        "id": "2xz1XvSbZnoa",
        "colab_type": "text"
      },
      "source": [
        "<GPU 확인>"
      ]
    },
    {
      "cell_type": "code",
      "metadata": {
        "id": "P2RJKULmZp8H",
        "colab_type": "code",
        "colab": {
          "base_uri": "https://localhost:8080/",
          "height": 35
        },
        "outputId": "0cf246b7-40c1-44af-c1b0-fac123e4515d"
      },
      "source": [
        "torch.cuda.is_available()"
      ],
      "execution_count": 10,
      "outputs": [
        {
          "output_type": "execute_result",
          "data": {
            "text/plain": [
              "True"
            ]
          },
          "metadata": {
            "tags": []
          },
          "execution_count": 10
        }
      ]
    },
    {
      "cell_type": "markdown",
      "metadata": {
        "id": "8p7jayi7SoCU",
        "colab_type": "text"
      },
      "source": [
        "<하이퍼 파라미터>"
      ]
    },
    {
      "cell_type": "code",
      "metadata": {
        "id": "0cEZbFHaSq65",
        "colab_type": "code",
        "colab": {}
      },
      "source": [
        "num_epochs = 5\n",
        "batch_size = 64\n",
        "learning_rate = 0.001\n",
        "device = torch.device(\"cuda:0\")"
      ],
      "execution_count": 0,
      "outputs": []
    },
    {
      "cell_type": "markdown",
      "metadata": {
        "id": "vcm6wkyZS1-r",
        "colab_type": "text"
      },
      "source": [
        "<데이터 불러오기>"
      ]
    },
    {
      "cell_type": "code",
      "metadata": {
        "id": "FxsyACqcS7WB",
        "colab_type": "code",
        "colab": {
          "base_uri": "https://localhost:8080/",
          "height": 269
        },
        "outputId": "c47bedaf-892d-46d1-fe41-670584c2b17d"
      },
      "source": [
        "train_dataset  = datasets.MNIST(root='./data/',\n",
        "                                train=True,\n",
        "                                transform=transforms.ToTensor(),\n",
        "                                download=True)\n",
        "    \n",
        "test_dataset = datasets.MNIST(root='./data/',\n",
        "                              train=False,\n",
        "                              transform=transforms.ToTensor())\n",
        "\n",
        "train_loader  = torch.utils.data.DataLoader(dataset=train_dataset,\n",
        "                                            batch_size=batch_size,\n",
        "                                            shuffle=True)\n",
        "\n",
        "test_loader = torch.utils.data.DataLoader(dataset=test_dataset,\n",
        "                                          batch_size=batch_size,\n",
        "                                          shuffle=False)"
      ],
      "execution_count": 4,
      "outputs": [
        {
          "output_type": "stream",
          "text": [
            "  0%|          | 0/9912422 [00:00<?, ?it/s]"
          ],
          "name": "stderr"
        },
        {
          "output_type": "stream",
          "text": [
            "Downloading http://yann.lecun.com/exdb/mnist/train-images-idx3-ubyte.gz to ./data/MNIST/raw/train-images-idx3-ubyte.gz\n"
          ],
          "name": "stdout"
        },
        {
          "output_type": "stream",
          "text": [
            "9920512it [00:00, 18610395.42it/s]                            \n"
          ],
          "name": "stderr"
        },
        {
          "output_type": "stream",
          "text": [
            "Extracting ./data/MNIST/raw/train-images-idx3-ubyte.gz\n"
          ],
          "name": "stdout"
        },
        {
          "output_type": "stream",
          "text": [
            "32768it [00:00, 298402.14it/s]                           \n",
            "0it [00:00, ?it/s]"
          ],
          "name": "stderr"
        },
        {
          "output_type": "stream",
          "text": [
            "Downloading http://yann.lecun.com/exdb/mnist/train-labels-idx1-ubyte.gz to ./data/MNIST/raw/train-labels-idx1-ubyte.gz\n",
            "Extracting ./data/MNIST/raw/train-labels-idx1-ubyte.gz\n",
            "Downloading http://yann.lecun.com/exdb/mnist/t10k-images-idx3-ubyte.gz to ./data/MNIST/raw/t10k-images-idx3-ubyte.gz\n"
          ],
          "name": "stdout"
        },
        {
          "output_type": "stream",
          "text": [
            "1654784it [00:00, 4939308.67it/s]                           \n",
            "8192it [00:00, 122717.30it/s]\n"
          ],
          "name": "stderr"
        },
        {
          "output_type": "stream",
          "text": [
            "Extracting ./data/MNIST/raw/t10k-images-idx3-ubyte.gz\n",
            "Downloading http://yann.lecun.com/exdb/mnist/t10k-labels-idx1-ubyte.gz to ./data/MNIST/raw/t10k-labels-idx1-ubyte.gz\n",
            "Extracting ./data/MNIST/raw/t10k-labels-idx1-ubyte.gz\n",
            "Processing...\n",
            "Done!\n"
          ],
          "name": "stdout"
        }
      ]
    },
    {
      "cell_type": "markdown",
      "metadata": {
        "id": "5dPQ0lcpTgwe",
        "colab_type": "text"
      },
      "source": [
        "<모델 정의>"
      ]
    },
    {
      "cell_type": "code",
      "metadata": {
        "id": "1vLPrAVVToB0",
        "colab_type": "code",
        "colab": {}
      },
      "source": [
        "class CNNMNIST(nn.Module):\n",
        "    def __init__(self):\n",
        "        super(CNNMNIST, self).__init__()\n",
        "        self.layer1 = nn.Sequential(\n",
        "            nn.Conv2d(1, 16, kernel_size=5, padding=2),\n",
        "            nn.BatchNorm2d(16),\n",
        "            nn.ReLU(),\n",
        "            nn.MaxPool2d(2))\n",
        "\n",
        "        self.layer2 = nn.Sequential(\n",
        "            nn.Conv2d(16, 32, kernel_size=5, padding=2),\n",
        "            nn.BatchNorm2d(32),\n",
        "            nn.ReLU(),\n",
        "            nn.MaxPool2d(2))\n",
        "\n",
        "        self.fc = nn.Linear(32 * 7 * 7, 10)\n",
        "\n",
        "    def forward(self, x):\n",
        "        o = self.layer1(x)\n",
        "        o = self.layer2(o)\n",
        "        o = o.view(o.size(0), -1)\n",
        "        o = self.fc(o)\n",
        "        return o"
      ],
      "execution_count": 0,
      "outputs": []
    },
    {
      "cell_type": "markdown",
      "metadata": {
        "id": "jMqekZD2WfWD",
        "colab_type": "text"
      },
      "source": [
        "<모델 선언>"
      ]
    },
    {
      "cell_type": "code",
      "metadata": {
        "id": "Omgikr7IWhQH",
        "colab_type": "code",
        "colab": {}
      },
      "source": [
        "model = CNNMNIST().to(device)\n",
        "optimizer = torch.optim.SGD(model.parameters(), lr=learning_rate, momentum=0.99)\n",
        "criterion = nn.CrossEntropyLoss()"
      ],
      "execution_count": 0,
      "outputs": []
    },
    {
      "cell_type": "markdown",
      "metadata": {
        "id": "OucGU26AVvop",
        "colab_type": "text"
      },
      "source": [
        "<모델 학습>"
      ]
    },
    {
      "cell_type": "code",
      "metadata": {
        "id": "VoxASFrbV1e0",
        "colab_type": "code",
        "colab": {
          "base_uri": "https://localhost:8080/",
          "height": 917
        },
        "outputId": "caca9e25-b5ff-4bb3-e4b6-5c391f01bfc5"
      },
      "source": [
        "model.train()\n",
        "for epoch in range(num_epochs):\n",
        "    for batch_idx, (data, target) in enumerate(train_loader):\n",
        "        data, target = data.to(device), target.to(device)\n",
        "        optimizer.zero_grad()\n",
        "        output = model(data)\n",
        "        loss = criterion(output, target)\n",
        "        loss.backward()\n",
        "        optimizer.step()\n",
        "        if batch_idx % 100 == 0:\n",
        "            print('Train Epoch: {} [{}/{} ({:.0f}%)]\\tLoss: {:.6f}'.format(\n",
        "                epoch, batch_idx * len(data), len(train_loader.dataset),\n",
        "                100. * batch_idx / len(train_loader), loss.item()))"
      ],
      "execution_count": 15,
      "outputs": [
        {
          "output_type": "stream",
          "text": [
            "Train Epoch: 0 [0/60000 (0%)]\tLoss: 2.369257\n",
            "Train Epoch: 0 [6400/60000 (11%)]\tLoss: 0.115528\n",
            "Train Epoch: 0 [12800/60000 (21%)]\tLoss: 0.299690\n",
            "Train Epoch: 0 [19200/60000 (32%)]\tLoss: 0.038308\n",
            "Train Epoch: 0 [25600/60000 (43%)]\tLoss: 0.065009\n",
            "Train Epoch: 0 [32000/60000 (53%)]\tLoss: 0.085971\n",
            "Train Epoch: 0 [38400/60000 (64%)]\tLoss: 0.091807\n",
            "Train Epoch: 0 [44800/60000 (75%)]\tLoss: 0.023310\n",
            "Train Epoch: 0 [51200/60000 (85%)]\tLoss: 0.157115\n",
            "Train Epoch: 0 [57600/60000 (96%)]\tLoss: 0.006944\n",
            "Train Epoch: 1 [0/60000 (0%)]\tLoss: 0.229434\n",
            "Train Epoch: 1 [6400/60000 (11%)]\tLoss: 0.006503\n",
            "Train Epoch: 1 [12800/60000 (21%)]\tLoss: 0.113062\n",
            "Train Epoch: 1 [19200/60000 (32%)]\tLoss: 0.118013\n",
            "Train Epoch: 1 [25600/60000 (43%)]\tLoss: 0.014902\n",
            "Train Epoch: 1 [32000/60000 (53%)]\tLoss: 0.025488\n",
            "Train Epoch: 1 [38400/60000 (64%)]\tLoss: 0.031280\n",
            "Train Epoch: 1 [44800/60000 (75%)]\tLoss: 0.056414\n",
            "Train Epoch: 1 [51200/60000 (85%)]\tLoss: 0.033571\n",
            "Train Epoch: 1 [57600/60000 (96%)]\tLoss: 0.020298\n",
            "Train Epoch: 2 [0/60000 (0%)]\tLoss: 0.062293\n",
            "Train Epoch: 2 [6400/60000 (11%)]\tLoss: 0.024227\n",
            "Train Epoch: 2 [12800/60000 (21%)]\tLoss: 0.034531\n",
            "Train Epoch: 2 [19200/60000 (32%)]\tLoss: 0.022768\n",
            "Train Epoch: 2 [25600/60000 (43%)]\tLoss: 0.019484\n",
            "Train Epoch: 2 [32000/60000 (53%)]\tLoss: 0.047230\n",
            "Train Epoch: 2 [38400/60000 (64%)]\tLoss: 0.007873\n",
            "Train Epoch: 2 [44800/60000 (75%)]\tLoss: 0.034565\n",
            "Train Epoch: 2 [51200/60000 (85%)]\tLoss: 0.009788\n",
            "Train Epoch: 2 [57600/60000 (96%)]\tLoss: 0.005072\n",
            "Train Epoch: 3 [0/60000 (0%)]\tLoss: 0.020768\n",
            "Train Epoch: 3 [6400/60000 (11%)]\tLoss: 0.005134\n",
            "Train Epoch: 3 [12800/60000 (21%)]\tLoss: 0.029247\n",
            "Train Epoch: 3 [19200/60000 (32%)]\tLoss: 0.034321\n",
            "Train Epoch: 3 [25600/60000 (43%)]\tLoss: 0.008618\n",
            "Train Epoch: 3 [32000/60000 (53%)]\tLoss: 0.089720\n",
            "Train Epoch: 3 [38400/60000 (64%)]\tLoss: 0.044462\n",
            "Train Epoch: 3 [44800/60000 (75%)]\tLoss: 0.082153\n",
            "Train Epoch: 3 [51200/60000 (85%)]\tLoss: 0.035936\n",
            "Train Epoch: 3 [57600/60000 (96%)]\tLoss: 0.002984\n",
            "Train Epoch: 4 [0/60000 (0%)]\tLoss: 0.140225\n",
            "Train Epoch: 4 [6400/60000 (11%)]\tLoss: 0.008920\n",
            "Train Epoch: 4 [12800/60000 (21%)]\tLoss: 0.062547\n",
            "Train Epoch: 4 [19200/60000 (32%)]\tLoss: 0.035665\n",
            "Train Epoch: 4 [25600/60000 (43%)]\tLoss: 0.054274\n",
            "Train Epoch: 4 [32000/60000 (53%)]\tLoss: 0.034090\n",
            "Train Epoch: 4 [38400/60000 (64%)]\tLoss: 0.023818\n",
            "Train Epoch: 4 [44800/60000 (75%)]\tLoss: 0.058722\n",
            "Train Epoch: 4 [51200/60000 (85%)]\tLoss: 0.059379\n",
            "Train Epoch: 4 [57600/60000 (96%)]\tLoss: 0.042372\n"
          ],
          "name": "stdout"
        }
      ]
    },
    {
      "cell_type": "markdown",
      "metadata": {
        "id": "V6mQ8-h9V02A",
        "colab_type": "text"
      },
      "source": [
        "<모델 검증>"
      ]
    },
    {
      "cell_type": "code",
      "metadata": {
        "id": "CbNwWHlVWPXI",
        "colab_type": "code",
        "colab": {
          "base_uri": "https://localhost:8080/",
          "height": 71
        },
        "outputId": "fc7df7bd-b147-4204-c526-e0bb08f43eb1"
      },
      "source": [
        "model.eval()\n",
        "test_loss = 0\n",
        "correct = 0\n",
        "with torch.no_grad():    \n",
        "    for data, target in test_loader:\n",
        "        data, target = data.to(device), target.to(device)\n",
        "        output = model(data)        \n",
        "        test_loss += criterion(output, target).item() # sum up batch loss\n",
        "        pred = output.argmax(dim=1, keepdim=True) # get the index of the max log-probability\n",
        "        correct += pred.eq(target.view_as(pred)).sum().item()\n",
        "\n",
        "test_loss /= len(test_loader.dataset)\n",
        "\n",
        "print('\\nTest set: Average loss: {:.4f}, Accuracy: {}/{} ({:.0f}%)\\n'.format(\n",
        "    test_loss, correct, len(test_loader.dataset),\n",
        "    100. * correct / len(test_loader.dataset)))"
      ],
      "execution_count": 16,
      "outputs": [
        {
          "output_type": "stream",
          "text": [
            "\n",
            "Test set: Average loss: 0.0005, Accuracy: 9889/10000 (99%)\n",
            "\n"
          ],
          "name": "stdout"
        }
      ]
    },
    {
      "cell_type": "markdown",
      "metadata": {
        "id": "nayKVYdPWVGb",
        "colab_type": "text"
      },
      "source": [
        ""
      ]
    }
  ]
}