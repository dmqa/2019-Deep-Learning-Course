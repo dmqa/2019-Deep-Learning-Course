{
 "cells": [
  {
   "cell_type": "markdown",
   "metadata": {},
   "source": [
    "# [순환신경망 실습: 다변량 시계열 분류 모델링]"
   ]
  },
  {
   "cell_type": "markdown",
   "metadata": {},
   "source": [
    "### 1. 모듈 불러오기"
   ]
  },
  {
   "cell_type": "code",
   "execution_count": null,
   "metadata": {},
   "outputs": [],
   "source": [
    "from google.colab import drive\n",
    "drive.mount('content/gdrive/')\n",
    "import os\n",
    "os.chdir('/content/gdrove/My Drive/Day3/hands-on/3일차_RNN1/')"
   ]
  },
  {
   "cell_type": "code",
   "execution_count": null,
   "metadata": {},
   "outputs": [],
   "source": [
    "import numpy as np\n",
    "import pandas as pd\n",
    "\n",
    "from multiprocessing import cpu_count\n",
    "\n",
    "from sklearn.model_selection import train_test_split\n",
    "from sklearn.preprocessing import LabelEncoder\n",
    "\n",
    "import torch\n",
    "from torch import nn\n",
    "from torch.nn import functional as F\n",
    "from torch.utils.data import TensorDataset, DataLoader\n",
    "from torch.optim.lr_scheduler import _LRScheduler\n",
    "\n",
    "import matplotlib.pyplot as plt\n"
   ]
  },
  {
   "cell_type": "code",
   "execution_count": null,
   "metadata": {},
   "outputs": [],
   "source": [
    "seed = 190731\n",
    "np.random.seed(seed)\n",
    "torch.cuda.set_device(0)"
   ]
  },
  {
   "cell_type": "markdown",
   "metadata": {},
   "source": [
    "### 2. 데이터 불러오기: Torch 데이터 준비하기(다채널시그널데이터)"
   ]
  },
  {
   "cell_type": "code",
   "execution_count": null,
   "metadata": {},
   "outputs": [],
   "source": [
    "path = 'C:/Users/jiyoon/Dropbox/Project/한화딥러닝교육/코드자료/3일차_RNN2/'\n",
    "\n",
    "X_train, y_train = torch.load(path+'Data/classification_multivariate_train_x'), torch.load(path+'Data/classification_multivariate_train_y')\n",
    "X_valid, y_valid = torch.load(path+'Data/classification_multivariate_valid_x'), torch.load(path+'Data/classification_multivariate_valid_y')\n"
   ]
  },
  {
   "cell_type": "markdown",
   "metadata": {},
   "source": [
    "- 시그널 데이터 살펴보기"
   ]
  },
  {
   "cell_type": "code",
   "execution_count": null,
   "metadata": {},
   "outputs": [],
   "source": [
    "plt.figure(figsize=(16,8)) # 그래프 (가로길이, 세로길이)\n",
    "plt.title('class: '+str(y_train[0].tolist()))\n",
    "plt.plot(np.array(X_train[0,:,0])) # sensor 1\n",
    "plt.plot(np.array(X_train[0,:,1])) # sensor 2\n",
    "plt.plot(np.array(X_train[0,:,2])) # sensor 3\n",
    "plt.plot(np.array(X_train[0,:,3])) # sensor 4\n",
    "plt.plot(np.array(X_train[0,:,4])) # sensor 5\n",
    "plt.plot(np.array(X_train[0,:,5])) # sensor 6\n",
    "plt.plot(np.array(X_train[0,:,6])) # sensor 7\n",
    "plt.plot(np.array(X_train[0,:,7])) # sensor 8\n",
    "plt.plot(np.array(X_train[0,:,8])) # sensor 9\n",
    "plt.plot(np.array(X_train[0,:,9])) # sensor 10\n",
    "plt.show()"
   ]
  },
  {
   "cell_type": "code",
   "execution_count": null,
   "metadata": {},
   "outputs": [],
   "source": [
    "for i in range(0,10):\n",
    "    plt.figure(figsize=(16,8)) # 그래프 (가로길이, 세로길이)\n",
    "    plt.title('class: '+str(y_train[i].tolist()))\n",
    "    plt.plot(np.array(X_train[i,:,0])) # sensor 1\n",
    "    plt.plot(np.array(X_train[i,:,1])) # sensor 2\n",
    "    plt.plot(np.array(X_train[i,:,2])) # sensor 3\n",
    "    plt.plot(np.array(X_train[i,:,3])) # sensor 4\n",
    "    plt.plot(np.array(X_train[i,:,4])) # sensor 5\n",
    "    plt.plot(np.array(X_train[i,:,5])) # sensor 6\n",
    "    plt.plot(np.array(X_train[i,:,6])) # sensor 7\n",
    "    plt.plot(np.array(X_train[i,:,7])) # sensor 8\n",
    "    plt.plot(np.array(X_train[i,:,8])) # sensor 9\n",
    "    plt.plot(np.array(X_train[i,:,9])) # sensor 10\n",
    "    plt.show()"
   ]
  },
  {
   "cell_type": "markdown",
   "metadata": {},
   "source": [
    "### 3. 데이터 전처리: Batch iterator 생성하기\n",
    "- data_utils의 TensorDataset과 DataLoader를 사용해 batch iterator 생성하기"
   ]
  },
  {
   "cell_type": "code",
   "execution_count": null,
   "metadata": {},
   "outputs": [],
   "source": [
    "train_ds = TensorDataset(X_train, y_train)\n",
    "valid_ds = TensorDataset(X_valid, y_valid)   "
   ]
  },
  {
   "cell_type": "code",
   "execution_count": null,
   "metadata": {},
   "outputs": [],
   "source": [
    "batch_size = 128 # 사용자선택변수(hyperparameter)"
   ]
  },
  {
   "cell_type": "code",
   "execution_count": null,
   "metadata": {},
   "outputs": [],
   "source": [
    "train_dl = DataLoader(train_ds, batch_size, shuffle=True)\n",
    "valid_dl = DataLoader(valid_ds, batch_size, shuffle=False)\n",
    "\n",
    "print(f'Creating data loaders with batch size: {batch_size}')\n"
   ]
  },
  {
   "cell_type": "markdown",
   "metadata": {},
   "source": [
    "### 3. RNN 모델 생성하기"
   ]
  },
  {
   "cell_type": "code",
   "execution_count": null,
   "metadata": {},
   "outputs": [],
   "source": [
    "class LSTMClassifier(nn.Module):\n",
    "    \"\"\"Very simple implementation of LSTM-based time-series classifier.\"\"\"\n",
    "    \n",
    "    def __init__(self, input_dim, hidden_dim, layer_dim, output_dim):\n",
    "        super().__init__()\n",
    "        self.hidden_dim = hidden_dim\n",
    "        self.layer_dim = layer_dim\n",
    "        self.rnn = nn.LSTM(input_dim, hidden_dim, layer_dim, batch_first=True)\n",
    "        self.fc = nn.Linear(hidden_dim, output_dim)\n",
    "        self.batch_size = None\n",
    "        self.hidden = None\n",
    "    \n",
    "    def forward(self, x):\n",
    "        h0, c0 = self.init_hidden(x)\n",
    "        out, (hn, cn) = self.rnn(x, (h0, c0))\n",
    "        out = self.fc(out[:, -1, :])\n",
    "        return out\n",
    "    \n",
    "    def init_hidden(self, x):\n",
    "        h0 = torch.zeros(self.layer_dim, x.size(0), self.hidden_dim)\n",
    "        c0 = torch.zeros(self.layer_dim, x.size(0), self.hidden_dim)\n",
    "        return [t.cuda() for t in (h0, c0)]\n",
    "\n",
    "class RNNClassifier(nn.Module):\n",
    "    def __init__(self, input_dim, hidden_dim, layer_dim, output_dim):\n",
    "        super().__init__()\n",
    "        self.hidden_dim = hidden_dim\n",
    "        self.layer_dim = layer_dim\n",
    "        self.rnn = nn.RNN(input_dim, hidden_dim, layer_dim, batch_first=True)\n",
    "        self.fc = nn.Linear(hidden_dim, output_dim)\n",
    "        self.batch_size = None\n",
    "        self.hidden = None\n",
    "    \n",
    "    def forward(self, x):\n",
    "        x, _status = self.rnn(x)\n",
    "        x = self.fc(x[:, -1, :])\n",
    "        return x"
   ]
  },
  {
   "cell_type": "code",
   "execution_count": null,
   "metadata": {},
   "outputs": [],
   "source": [
    "input_dim = 10    \n",
    "hidden_dim = 256\n",
    "layer_dim = 3\n",
    "output_dim = 9\n",
    "seq_dim = 128\n",
    "lr = 0.0005\n",
    "n_epochs = 100"
   ]
  },
  {
   "cell_type": "code",
   "execution_count": null,
   "metadata": {},
   "outputs": [],
   "source": [
    "model = LSTMClassifier(input_dim, hidden_dim, layer_dim, output_dim)\n",
    "#model = RNNClassifier(input_dim, hidden_dim, layer_dim, output_dim)\n",
    "model = model.cuda()\n",
    "criterion = nn.CrossEntropyLoss()\n",
    "opt = torch.optim.RMSprop(model.parameters(), lr=lr)\n"
   ]
  },
  {
   "cell_type": "code",
   "execution_count": null,
   "metadata": {},
   "outputs": [],
   "source": [
    "print('Start model training')\n",
    "for epoch in range(1, n_epochs + 1):\n",
    "    # training part\n",
    "    for i, (x_batch, y_batch) in enumerate(train_dl):\n",
    "        model.train()       \n",
    "        x_batch = x_batch.cuda()\n",
    "        y_batch = y_batch.cuda()\n",
    "        opt.zero_grad()        \n",
    "        out = model(x_batch)        \n",
    "        loss = criterion(out, y_batch)\n",
    "        loss.backward()        \n",
    "        opt.step()\n",
    "    \n",
    "    # evaluating part\n",
    "    model.eval()\n",
    "    correct, total = 0, 0\n",
    "    for x_val, y_val in valid_dl:\n",
    "        x_val, y_val = [t.cuda() for t in (x_val, y_val)]\n",
    "        out = model(x_val)\n",
    "        preds = F.log_softmax(out, dim=1).argmax(dim=1)\n",
    "        total += y_val.size(0)\n",
    "        correct += (preds == y_val).sum().item()\n",
    "    \n",
    "    acc = correct / total\n",
    "    \n",
    "    print(f'Epoch: {epoch:3d}. Loss: {loss.item():.4f}. 평가정확도.: {acc:2.2%}')\n"
   ]
  },
  {
   "cell_type": "code",
   "execution_count": null,
   "metadata": {},
   "outputs": [],
   "source": [
    "# RNN Epoch: 100. Loss: 1.3778. 평가정확도.: 45.14%\n",
    "# LSTM Epoch: 100. Loss: 0.1447. 평가정확도.: 76.38%"
   ]
  }
 ],
 "metadata": {
  "kernelspec": {
   "display_name": "Python 3",
   "language": "python",
   "name": "python3"
  },
  "language_info": {
   "codemirror_mode": {
    "name": "ipython",
    "version": 3
   },
   "file_extension": ".py",
   "mimetype": "text/x-python",
   "name": "python",
   "nbconvert_exporter": "python",
   "pygments_lexer": "ipython3",
   "version": "3.6.8"
  }
 },
 "nbformat": 4,
 "nbformat_minor": 2
}
