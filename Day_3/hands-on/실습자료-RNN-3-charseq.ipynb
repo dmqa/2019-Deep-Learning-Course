{
 "cells": [
  {
   "cell_type": "code",
   "execution_count": 1,
   "metadata": {},
   "outputs": [],
   "source": [
    "import torch\n",
    "import torch.optim as optim\n",
    "import numpy as np"
   ]
  },
  {
   "cell_type": "code",
   "execution_count": 2,
   "metadata": {},
   "outputs": [
    {
     "data": {
      "text/plain": [
       "<torch._C.Generator at 0x24b804ae4b0>"
      ]
     },
     "execution_count": 2,
     "metadata": {},
     "output_type": "execute_result"
    }
   ],
   "source": [
    "# Random seed to make results deterministic and reproducible\n",
    "torch.manual_seed(0)"
   ]
  },
  {
   "cell_type": "code",
   "execution_count": 3,
   "metadata": {},
   "outputs": [],
   "source": [
    "sample = \" if you want you\""
   ]
  },
  {
   "cell_type": "code",
   "execution_count": 4,
   "metadata": {},
   "outputs": [
    {
     "name": "stdout",
     "output_type": "stream",
     "text": [
      "{'y': 0, 'a': 1, 'w': 2, 'i': 3, 'n': 4, 't': 5, 'o': 6, 'f': 7, ' ': 8, 'u': 9}\n"
     ]
    }
   ],
   "source": [
    "# make dictionary\n",
    "char_set = list(set(sample))\n",
    "char_dic = {c: i for i, c in enumerate(char_set)}\n",
    "print(char_dic)"
   ]
  },
  {
   "cell_type": "code",
   "execution_count": 5,
   "metadata": {},
   "outputs": [],
   "source": [
    "# hyper parameters\n",
    "dic_size = len(char_dic)\n",
    "hidden_size = len(char_dic)\n",
    "learning_rate = 0.1"
   ]
  },
  {
   "cell_type": "code",
   "execution_count": 6,
   "metadata": {},
   "outputs": [],
   "source": [
    "# data setting\n",
    "sample_idx = [char_dic[c] for c in sample]\n",
    "x_data = [sample_idx[:-1]]\n",
    "x_one_hot = [np.eye(dic_size)[x] for x in x_data]\n",
    "y_data = [sample_idx[1:]]"
   ]
  },
  {
   "cell_type": "code",
   "execution_count": 7,
   "metadata": {},
   "outputs": [],
   "source": [
    "# transform as torch tensor variable\n",
    "X = torch.FloatTensor(x_one_hot)\n",
    "Y = torch.LongTensor(y_data)"
   ]
  },
  {
   "cell_type": "code",
   "execution_count": 8,
   "metadata": {},
   "outputs": [],
   "source": [
    "# declare RNN\n",
    "rnn = torch.nn.RNN(dic_size, hidden_size, batch_first=True)"
   ]
  },
  {
   "cell_type": "code",
   "execution_count": 9,
   "metadata": {},
   "outputs": [],
   "source": [
    "# loss & optimizer setting\n",
    "criterion = torch.nn.CrossEntropyLoss()\n",
    "optimizer = optim.Adam(rnn.parameters(), learning_rate)"
   ]
  },
  {
   "cell_type": "code",
   "execution_count": 10,
   "metadata": {
    "scrolled": true
   },
   "outputs": [
    {
     "name": "stdout",
     "output_type": "stream",
     "text": [
      "0 loss:  2.298229455947876 prediction:  [[8 7 0 8 5 8 0 8 7 8 7 7 8 5 8]] true Y:  [[3, 7, 8, 0, 6, 9, 8, 2, 1, 4, 5, 8, 0, 6, 9]] prediction str:   fy t y f ff t \n",
      "1 loss:  2.026611566543579 prediction:  [[8 7 0 0 0 9 0 0 0 0 0 0 0 0 9]] true Y:  [[3, 7, 8, 0, 6, 9, 8, 2, 1, 4, 5, 8, 0, 6, 9]] prediction str:   fyyyuyyyyyyyyu\n",
      "2 loss:  1.8108528852462769 prediction:  [[8 7 8 0 0 9 8 0 8 8 5 8 0 0 9]] true Y:  [[3, 7, 8, 0, 6, 9, 8, 2, 1, 4, 5, 8, 0, 6, 9]] prediction str:   f yyu y  t yyu\n",
      "3 loss:  1.623955488204956 prediction:  [[8 7 8 0 6 9 8 2 8 8 5 8 0 6 9]] true Y:  [[3, 7, 8, 0, 6, 9, 8, 2, 1, 4, 5, 8, 0, 6, 9]] prediction str:   f you w  t you\n",
      "4 loss:  1.4721335172653198 prediction:  [[8 7 8 0 6 9 8 2 8 3 5 8 0 6 9]] true Y:  [[3, 7, 8, 0, 6, 9, 8, 2, 1, 4, 5, 8, 0, 6, 9]] prediction str:   f you w it you\n",
      "5 loss:  1.3596140146255493 prediction:  [[3 7 8 0 6 9 8 2 1 3 5 8 0 6 9]] true Y:  [[3, 7, 8, 0, 6, 9, 8, 2, 1, 4, 5, 8, 0, 6, 9]] prediction str:  if you wait you\n",
      "6 loss:  1.2513858079910278 prediction:  [[3 7 8 0 6 9 8 2 1 3 5 8 0 6 9]] true Y:  [[3, 7, 8, 0, 6, 9, 8, 2, 1, 4, 5, 8, 0, 6, 9]] prediction str:  if you wait you\n",
      "7 loss:  1.1669691801071167 prediction:  [[3 7 8 0 6 9 8 2 1 4 5 8 0 6 9]] true Y:  [[3, 7, 8, 0, 6, 9, 8, 2, 1, 4, 5, 8, 0, 6, 9]] prediction str:  if you want you\n",
      "8 loss:  1.1352825164794922 prediction:  [[3 7 8 0 6 9 8 0 8 4 5 8 0 6 9]] true Y:  [[3, 7, 8, 0, 6, 9, 8, 2, 1, 4, 5, 8, 0, 6, 9]] prediction str:  if you y nt you\n",
      "9 loss:  1.0868357419967651 prediction:  [[3 7 8 0 6 9 8 2 1 4 5 8 0 6 9]] true Y:  [[3, 7, 8, 0, 6, 9, 8, 2, 1, 4, 5, 8, 0, 6, 9]] prediction str:  if you want you\n",
      "10 loss:  1.0646679401397705 prediction:  [[3 7 8 0 6 9 8 2 1 4 5 8 0 6 9]] true Y:  [[3, 7, 8, 0, 6, 9, 8, 2, 1, 4, 5, 8, 0, 6, 9]] prediction str:  if you want you\n",
      "11 loss:  1.024905800819397 prediction:  [[3 7 8 0 6 9 8 2 1 4 5 8 0 6 9]] true Y:  [[3, 7, 8, 0, 6, 9, 8, 2, 1, 4, 5, 8, 0, 6, 9]] prediction str:  if you want you\n",
      "12 loss:  0.9949029088020325 prediction:  [[3 7 8 0 6 9 8 2 1 4 5 8 0 6 9]] true Y:  [[3, 7, 8, 0, 6, 9, 8, 2, 1, 4, 5, 8, 0, 6, 9]] prediction str:  if you want you\n",
      "13 loss:  0.9849290251731873 prediction:  [[3 7 8 0 6 9 8 2 1 4 5 8 0 6 9]] true Y:  [[3, 7, 8, 0, 6, 9, 8, 2, 1, 4, 5, 8, 0, 6, 9]] prediction str:  if you want you\n",
      "14 loss:  0.9523743391036987 prediction:  [[3 7 8 0 6 9 8 2 1 4 5 8 0 6 9]] true Y:  [[3, 7, 8, 0, 6, 9, 8, 2, 1, 4, 5, 8, 0, 6, 9]] prediction str:  if you want you\n",
      "15 loss:  0.9396205544471741 prediction:  [[3 7 8 0 6 9 8 2 1 4 5 8 0 6 9]] true Y:  [[3, 7, 8, 0, 6, 9, 8, 2, 1, 4, 5, 8, 0, 6, 9]] prediction str:  if you want you\n",
      "16 loss:  0.9230969548225403 prediction:  [[3 7 8 0 6 9 8 2 1 4 5 8 0 6 9]] true Y:  [[3, 7, 8, 0, 6, 9, 8, 2, 1, 4, 5, 8, 0, 6, 9]] prediction str:  if you want you\n",
      "17 loss:  0.9063279628753662 prediction:  [[3 7 8 0 6 9 8 2 1 4 5 8 0 6 9]] true Y:  [[3, 7, 8, 0, 6, 9, 8, 2, 1, 4, 5, 8, 0, 6, 9]] prediction str:  if you want you\n",
      "18 loss:  0.8959983587265015 prediction:  [[3 7 8 0 6 9 8 2 1 4 5 8 0 6 9]] true Y:  [[3, 7, 8, 0, 6, 9, 8, 2, 1, 4, 5, 8, 0, 6, 9]] prediction str:  if you want you\n",
      "19 loss:  0.8885496258735657 prediction:  [[3 7 8 0 6 9 8 2 1 4 5 8 0 6 9]] true Y:  [[3, 7, 8, 0, 6, 9, 8, 2, 1, 4, 5, 8, 0, 6, 9]] prediction str:  if you want you\n",
      "20 loss:  0.8806284070014954 prediction:  [[3 7 8 0 6 9 8 2 1 4 5 8 0 6 9]] true Y:  [[3, 7, 8, 0, 6, 9, 8, 2, 1, 4, 5, 8, 0, 6, 9]] prediction str:  if you want you\n",
      "21 loss:  0.8729021549224854 prediction:  [[3 7 8 0 6 9 8 2 1 4 5 8 0 6 9]] true Y:  [[3, 7, 8, 0, 6, 9, 8, 2, 1, 4, 5, 8, 0, 6, 9]] prediction str:  if you want you\n",
      "22 loss:  0.8679327368736267 prediction:  [[3 7 8 0 6 9 8 2 1 4 5 8 0 6 9]] true Y:  [[3, 7, 8, 0, 6, 9, 8, 2, 1, 4, 5, 8, 0, 6, 9]] prediction str:  if you want you\n",
      "23 loss:  0.8643776178359985 prediction:  [[3 7 8 0 6 9 8 2 1 4 5 8 0 6 9]] true Y:  [[3, 7, 8, 0, 6, 9, 8, 2, 1, 4, 5, 8, 0, 6, 9]] prediction str:  if you want you\n",
      "24 loss:  0.8593198657035828 prediction:  [[3 7 8 0 6 9 8 2 1 4 5 8 0 6 9]] true Y:  [[3, 7, 8, 0, 6, 9, 8, 2, 1, 4, 5, 8, 0, 6, 9]] prediction str:  if you want you\n",
      "25 loss:  0.8544528484344482 prediction:  [[3 7 8 0 6 9 8 2 1 4 5 8 0 6 9]] true Y:  [[3, 7, 8, 0, 6, 9, 8, 2, 1, 4, 5, 8, 0, 6, 9]] prediction str:  if you want you\n",
      "26 loss:  0.8510481715202332 prediction:  [[3 7 8 0 6 9 8 2 1 4 5 8 0 6 9]] true Y:  [[3, 7, 8, 0, 6, 9, 8, 2, 1, 4, 5, 8, 0, 6, 9]] prediction str:  if you want you\n",
      "27 loss:  0.8472795486450195 prediction:  [[3 7 8 0 6 9 8 2 1 4 5 8 0 6 9]] true Y:  [[3, 7, 8, 0, 6, 9, 8, 2, 1, 4, 5, 8, 0, 6, 9]] prediction str:  if you want you\n",
      "28 loss:  0.8438463807106018 prediction:  [[3 7 8 0 6 9 8 2 1 4 5 8 0 6 9]] true Y:  [[3, 7, 8, 0, 6, 9, 8, 2, 1, 4, 5, 8, 0, 6, 9]] prediction str:  if you want you\n",
      "29 loss:  0.8421018719673157 prediction:  [[3 7 8 0 6 9 8 2 1 4 5 8 0 6 9]] true Y:  [[3, 7, 8, 0, 6, 9, 8, 2, 1, 4, 5, 8, 0, 6, 9]] prediction str:  if you want you\n",
      "30 loss:  0.8395440578460693 prediction:  [[3 7 8 0 6 9 8 2 1 4 5 8 0 6 9]] true Y:  [[3, 7, 8, 0, 6, 9, 8, 2, 1, 4, 5, 8, 0, 6, 9]] prediction str:  if you want you\n",
      "31 loss:  0.8371636867523193 prediction:  [[3 7 8 0 6 9 8 2 1 4 5 8 0 6 9]] true Y:  [[3, 7, 8, 0, 6, 9, 8, 2, 1, 4, 5, 8, 0, 6, 9]] prediction str:  if you want you\n",
      "32 loss:  0.835777997970581 prediction:  [[3 7 8 0 6 9 8 2 1 4 5 8 0 6 9]] true Y:  [[3, 7, 8, 0, 6, 9, 8, 2, 1, 4, 5, 8, 0, 6, 9]] prediction str:  if you want you\n",
      "33 loss:  0.8340962529182434 prediction:  [[3 7 8 0 6 9 8 2 1 4 5 8 0 6 9]] true Y:  [[3, 7, 8, 0, 6, 9, 8, 2, 1, 4, 5, 8, 0, 6, 9]] prediction str:  if you want you\n",
      "34 loss:  0.832287073135376 prediction:  [[3 7 8 0 6 9 8 2 1 4 5 8 0 6 9]] true Y:  [[3, 7, 8, 0, 6, 9, 8, 2, 1, 4, 5, 8, 0, 6, 9]] prediction str:  if you want you\n",
      "35 loss:  0.8309652209281921 prediction:  [[3 7 8 0 6 9 8 2 1 4 5 8 0 6 9]] true Y:  [[3, 7, 8, 0, 6, 9, 8, 2, 1, 4, 5, 8, 0, 6, 9]] prediction str:  if you want you\n",
      "36 loss:  0.8297112584114075 prediction:  [[3 7 8 0 6 9 8 2 1 4 5 8 0 6 9]] true Y:  [[3, 7, 8, 0, 6, 9, 8, 2, 1, 4, 5, 8, 0, 6, 9]] prediction str:  if you want you\n",
      "37 loss:  0.8282769322395325 prediction:  [[3 7 8 0 6 9 8 2 1 4 5 8 0 6 9]] true Y:  [[3, 7, 8, 0, 6, 9, 8, 2, 1, 4, 5, 8, 0, 6, 9]] prediction str:  if you want you\n",
      "38 loss:  0.8270325064659119 prediction:  [[3 7 8 0 6 9 8 2 1 4 5 8 0 6 9]] true Y:  [[3, 7, 8, 0, 6, 9, 8, 2, 1, 4, 5, 8, 0, 6, 9]] prediction str:  if you want you\n",
      "39 loss:  0.8261371850967407 prediction:  [[3 7 8 0 6 9 8 2 1 4 5 8 0 6 9]] true Y:  [[3, 7, 8, 0, 6, 9, 8, 2, 1, 4, 5, 8, 0, 6, 9]] prediction str:  if you want you\n",
      "40 loss:  0.8252115845680237 prediction:  [[3 7 8 0 6 9 8 2 1 4 5 8 0 6 9]] true Y:  [[3, 7, 8, 0, 6, 9, 8, 2, 1, 4, 5, 8, 0, 6, 9]] prediction str:  if you want you\n",
      "41 loss:  0.8242484927177429 prediction:  [[3 7 8 0 6 9 8 2 1 4 5 8 0 6 9]] true Y:  [[3, 7, 8, 0, 6, 9, 8, 2, 1, 4, 5, 8, 0, 6, 9]] prediction str:  if you want you\n",
      "42 loss:  0.8235579133033752 prediction:  [[3 7 8 0 6 9 8 2 1 4 5 8 0 6 9]] true Y:  [[3, 7, 8, 0, 6, 9, 8, 2, 1, 4, 5, 8, 0, 6, 9]] prediction str:  if you want you\n",
      "43 loss:  0.8229084610939026 prediction:  [[3 7 8 0 6 9 8 2 1 4 5 8 0 6 9]] true Y:  [[3, 7, 8, 0, 6, 9, 8, 2, 1, 4, 5, 8, 0, 6, 9]] prediction str:  if you want you\n",
      "44 loss:  0.822134792804718 prediction:  [[3 7 8 0 6 9 8 2 1 4 5 8 0 6 9]] true Y:  [[3, 7, 8, 0, 6, 9, 8, 2, 1, 4, 5, 8, 0, 6, 9]] prediction str:  if you want you\n",
      "45 loss:  0.821489155292511 prediction:  [[3 7 8 0 6 9 8 2 1 4 5 8 0 6 9]] true Y:  [[3, 7, 8, 0, 6, 9, 8, 2, 1, 4, 5, 8, 0, 6, 9]] prediction str:  if you want you\n",
      "46 loss:  0.820958137512207 prediction:  [[3 7 8 0 6 9 8 2 1 4 5 8 0 6 9]] true Y:  [[3, 7, 8, 0, 6, 9, 8, 2, 1, 4, 5, 8, 0, 6, 9]] prediction str:  if you want you\n",
      "47 loss:  0.8203330636024475 prediction:  [[3 7 8 0 6 9 8 2 1 4 5 8 0 6 9]] true Y:  [[3, 7, 8, 0, 6, 9, 8, 2, 1, 4, 5, 8, 0, 6, 9]] prediction str:  if you want you\n",
      "48 loss:  0.8198200464248657 prediction:  [[3 7 8 0 6 9 8 2 1 4 5 8 0 6 9]] true Y:  [[3, 7, 8, 0, 6, 9, 8, 2, 1, 4, 5, 8, 0, 6, 9]] prediction str:  if you want you\n"
     ]
    },
    {
     "name": "stdout",
     "output_type": "stream",
     "text": [
      "49 loss:  0.8194095492362976 prediction:  [[3 7 8 0 6 9 8 2 1 4 5 8 0 6 9]] true Y:  [[3, 7, 8, 0, 6, 9, 8, 2, 1, 4, 5, 8, 0, 6, 9]] prediction str:  if you want you\n"
     ]
    }
   ],
   "source": [
    "# start training\n",
    "for i in range(50):\n",
    "    optimizer.zero_grad()\n",
    "    outputs, _status = rnn(X)\n",
    "    loss = criterion(outputs.view(-1, dic_size), Y.view(-1))\n",
    "    loss.backward()\n",
    "    optimizer.step()\n",
    "\n",
    "    result = outputs.data.numpy().argmax(axis=2)\n",
    "    result_str = ''.join([char_set[c] for c in np.squeeze(result)])\n",
    "    print(i, \"loss: \", loss.item(), \"prediction: \", result, \"true Y: \", y_data, \"prediction str: \", result_str)"
   ]
  },
  {
   "cell_type": "code",
   "execution_count": null,
   "metadata": {},
   "outputs": [],
   "source": []
  }
 ],
 "metadata": {
  "kernelspec": {
   "display_name": "Python 3",
   "language": "python",
   "name": "python3"
  },
  "language_info": {
   "codemirror_mode": {
    "name": "ipython",
    "version": 3
   },
   "file_extension": ".py",
   "mimetype": "text/x-python",
   "name": "python",
   "nbconvert_exporter": "python",
   "pygments_lexer": "ipython3",
   "version": "3.6.5"
  }
 },
 "nbformat": 4,
 "nbformat_minor": 2
}
