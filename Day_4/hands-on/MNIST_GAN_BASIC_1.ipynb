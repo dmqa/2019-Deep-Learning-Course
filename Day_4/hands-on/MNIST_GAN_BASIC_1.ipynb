{
 "cells": [
  {
   "cell_type": "markdown",
   "metadata": {},
   "source": [
    "# MNIST - GAN"
   ]
  },
  {
   "cell_type": "markdown",
   "metadata": {},
   "source": [
    "## library 불러오기"
   ]
  },
  {
   "cell_type": "code",
   "execution_count": 1,
   "metadata": {},
   "outputs": [],
   "source": [
    "\n",
    "import torch\n",
    "import torch.nn as nn\n",
    "import torch.nn.functional as F\n",
    "import torch.optim as optim\n",
    "from torchvision import datasets, transforms\n",
    "from torch.autograd import Variable\n",
    "from torchvision.utils import save_image\n",
    "\n",
    "import numpy as np\n",
    "import matplotlib.pyplot as plt"
   ]
  },
  {
   "cell_type": "code",
   "execution_count": 2,
   "metadata": {},
   "outputs": [
    {
     "data": {
      "text/plain": [
       "device(type='cuda')"
      ]
     },
     "execution_count": 2,
     "metadata": {},
     "output_type": "execute_result"
    }
   ],
   "source": [
    "device = torch.device('cuda' if torch.cuda.is_available() else 'cpu')\n",
    "device"
   ]
  },
  {
   "cell_type": "markdown",
   "metadata": {},
   "source": [
    "### batch size 설정"
   ]
  },
  {
   "cell_type": "code",
   "execution_count": 3,
   "metadata": {},
   "outputs": [],
   "source": [
    "batch_size = 100"
   ]
  },
  {
   "cell_type": "markdown",
   "metadata": {},
   "source": [
    "## data 불러오기"
   ]
  },
  {
   "cell_type": "code",
   "execution_count": 4,
   "metadata": {},
   "outputs": [],
   "source": [
    "transform = transforms.Compose([\n",
    "    transforms.ToTensor(),\n",
    "    transforms.Normalize(mean = (0.5, 0.5, 0.5), std = (0.5, 0.5, 0.5))\n",
    "])\n",
    "\n",
    "train_data = datasets.MNIST(root = './mnist_data/', train = True, transform = transform, download = True)\n",
    "test_data = datasets.MNIST(root = './mnist_data/', train = False, transform = transform, download = False)\n",
    "\n",
    "train_loader = torch.utils.data.DataLoader(dataset = train_data, batch_size = batch_size, shuffle = True)\n",
    "test_loader = torch.utils.data.DataLoader(dataset = test_data, batch_size = batch_size, shuffle = False)\n"
   ]
  },
  {
   "cell_type": "code",
   "execution_count": 5,
   "metadata": {},
   "outputs": [
    {
     "data": {
      "text/plain": [
       "Dataset MNIST\n",
       "    Number of datapoints: 60000\n",
       "    Split: train\n",
       "    Root Location: ./mnist_data/\n",
       "    Transforms (if any): Compose(\n",
       "                             ToTensor()\n",
       "                             Normalize(mean=(0.5, 0.5, 0.5), std=(0.5, 0.5, 0.5))\n",
       "                         )\n",
       "    Target Transforms (if any): None"
      ]
     },
     "execution_count": 5,
     "metadata": {},
     "output_type": "execute_result"
    }
   ],
   "source": [
    "train_data"
   ]
  },
  {
   "cell_type": "code",
   "execution_count": 6,
   "metadata": {},
   "outputs": [
    {
     "data": {
      "text/plain": [
       "torch.Size([60000, 28, 28])"
      ]
     },
     "execution_count": 6,
     "metadata": {},
     "output_type": "execute_result"
    }
   ],
   "source": [
    "train_data.train_data.size()"
   ]
  },
  {
   "cell_type": "code",
   "execution_count": 7,
   "metadata": {},
   "outputs": [
    {
     "data": {
      "text/plain": [
       "<matplotlib.image.AxesImage at 0x262b9042438>"
      ]
     },
     "execution_count": 7,
     "metadata": {},
     "output_type": "execute_result"
    },
    {
     "data": {
      "image/png": "[encoded data removed]",
      "text/plain": [
       "<Figure size 432x288 with 1 Axes>"
      ]
     },
     "metadata": {
      "needs_background": "light"
     },
     "output_type": "display_data"
    }
   ],
   "source": [
    "plt.imshow(train_data.train_data.numpy()[0,:,:])"
   ]
  },
  {
   "cell_type": "markdown",
   "metadata": {},
   "source": [
    "### input pipeline"
   ]
  },
  {
   "cell_type": "code",
   "execution_count": 8,
   "metadata": {},
   "outputs": [],
   "source": [
    "train_loader = torch.utils.data.DataLoader(dataset = train_data, batch_size = batch_size, shuffle = True)\n",
    "test_loader = torch.utils.data.DataLoader(dataset = test_data, batch_size = batch_size, shuffle = False)"
   ]
  },
  {
   "cell_type": "markdown",
   "metadata": {},
   "source": [
    "## Generator 구성"
   ]
  },
  {
   "cell_type": "code",
   "execution_count": 9,
   "metadata": {},
   "outputs": [],
   "source": [
    "class Generator(nn.Module):\n",
    "    def __init__(self, g_input_dim, g_output_dim):\n",
    "        super(Generator, self).__init__()\n",
    "        self.fc1 = nn.Linear(g_input_dim, 256)\n",
    "        self.fc2 = nn.Linear(self.fc1.out_features, self.fc1.out_features*2)\n",
    "        self.fc3 = nn.Linear(self.fc2.out_features, self.fc2.out_features*2)\n",
    "        self.fc4 = nn.Linear(self.fc3.out_features, g_output_dim)\n",
    "\n",
    "    def forward(self, x):\n",
    "        x = F.leaky_relu(self.fc1(x), 0.2)\n",
    "        x = F.leaky_relu(self.fc2(x), 0.2)\n",
    "        x = F.leaky_relu(self.fc3(x), 0.2)\n",
    "        return torch.tanh(self.fc4(x))"
   ]
  },
  {
   "cell_type": "markdown",
   "metadata": {},
   "source": [
    "## Discriminator 구성"
   ]
  },
  {
   "cell_type": "code",
   "execution_count": 10,
   "metadata": {},
   "outputs": [],
   "source": [
    "class Discriminator(nn.Module):\n",
    "    def __init__(self, d_input_dim):\n",
    "        super(Discriminator, self).__init__()\n",
    "        self.fc1 = nn.Linear(d_input_dim, 1024)\n",
    "        self.fc2 = nn.Linear(self.fc1.out_features, self.fc1.out_features//2)\n",
    "        self.fc3 = nn.Linear(self.fc2.out_features, self.fc2.out_features//2)\n",
    "        self.fc4 = nn.Linear(self.fc3.out_features, 1)\n",
    "    \n",
    "    def forward(self, x):\n",
    "        x = F.leaky_relu(self.fc1(x), 0.2)\n",
    "        x = F.dropout(x, 0.3)\n",
    "        x = F.leaky_relu(self.fc2(x), 0.2)\n",
    "        x = F.dropout(x, 0.3)\n",
    "        x = F.leaky_relu(self.fc3(x), 0.2)\n",
    "        x = F.dropout(x, 0.3)\n",
    "        return torch.sigmoid(self.fc4(x))"
   ]
  },
  {
   "cell_type": "markdown",
   "metadata": {},
   "source": [
    "## noise 설정"
   ]
  },
  {
   "cell_type": "code",
   "execution_count": 11,
   "metadata": {},
   "outputs": [],
   "source": [
    "z_dim = 100"
   ]
  },
  {
   "cell_type": "code",
   "execution_count": 12,
   "metadata": {},
   "outputs": [
    {
     "data": {
      "text/plain": [
       "784"
      ]
     },
     "execution_count": 12,
     "metadata": {},
     "output_type": "execute_result"
    }
   ],
   "source": [
    "mnist_dim = train_data.train_data.size(1) * train_data.train_data.size(2)\n",
    "mnist_dim"
   ]
  },
  {
   "cell_type": "code",
   "execution_count": 13,
   "metadata": {},
   "outputs": [],
   "source": [
    "G = Generator(g_input_dim = z_dim, g_output_dim = mnist_dim).to(device)"
   ]
  },
  {
   "cell_type": "code",
   "execution_count": 14,
   "metadata": {},
   "outputs": [],
   "source": [
    "D = Discriminator(mnist_dim).to(device)"
   ]
  },
  {
   "cell_type": "code",
   "execution_count": 15,
   "metadata": {},
   "outputs": [],
   "source": [
    "criterion = nn.BCELoss()"
   ]
  },
  {
   "cell_type": "code",
   "execution_count": 16,
   "metadata": {},
   "outputs": [],
   "source": [
    "lr = 0.0002\n",
    "G_optim = optim.Adam(G.parameters(), lr = lr)\n",
    "D_optim = optim.Adam(D.parameters(), lr = lr)"
   ]
  },
  {
   "cell_type": "code",
   "execution_count": 17,
   "metadata": {},
   "outputs": [],
   "source": [
    "def D_train(x):\n",
    "    D.zero_grad()\n",
    "\n",
    "    x_real, y_real = x.view(-1, mnist_dim), torch.ones(batch_size, 1)\n",
    "    x_real, y_real = Variable(x_real.to(device)), Variable(y_real.to(device))\n",
    "\n",
    "    D_output = D(x_real)\n",
    "    D_real_loss = criterion(D_output, y_real)\n",
    "    D_real_score = D_output\n",
    "\n",
    "    z = Variable(torch.randn(batch_size, z_dim).to(device))\n",
    "    x_fake, y_fake = G(z), Variable(torch.zeros(batch_size, 1).to(device))\n",
    "\n",
    "    D_output = D(x_fake)\n",
    "    D_fake_loss = criterion(D_output, y_fake)\n",
    "    D_fake_score = D_output\n",
    "\n",
    "    D_loss = D_real_loss + D_fake_loss\n",
    "    D_loss.backward()\n",
    "    D_optim.step()\n",
    "\n",
    "    return D_loss.data.item()"
   ]
  },
  {
   "cell_type": "code",
   "execution_count": 18,
   "metadata": {},
   "outputs": [],
   "source": [
    "def G_train(x):\n",
    "    G.zero_grad()\n",
    "\n",
    "    z = Variable(torch.randn(batch_size, z_dim).to(device))\n",
    "    y = Variable(torch.ones(batch_size, 1).to(device))\n",
    "\n",
    "    G_output = G(z)\n",
    "    D_output = D(G_output)\n",
    "    G_loss = criterion(D_output, y)\n",
    "\n",
    "    G_loss.backward()\n",
    "    G_optim.step()\n",
    "\n",
    "    return G_loss.data.item()"
   ]
  },
  {
   "cell_type": "code",
   "execution_count": null,
   "metadata": {},
   "outputs": [
    {
     "name": "stdout",
     "output_type": "stream",
     "text": [
      "[1/100]: loss_d: 1.339, loss_g: 0.658\n",
      "[1/100]: loss_d: 1.014, loss_g: 1.021\n",
      "[1/100]: loss_d: 0.922, loss_g: 1.274\n",
      "[1/100]: loss_d: 1.062, loss_g: 1.491\n",
      "[1/100]: loss_d: 1.036, loss_g: 1.827\n",
      "[1/100]: loss_d: 1.092, loss_g: 2.451\n",
      "[1/100]: loss_d: 0.944, loss_g: 2.757\n",
      "[1/100]: loss_d: 0.821, loss_g: 3.136\n",
      "[1/100]: loss_d: 0.743, loss_g: 3.610\n",
      "[1/100]: loss_d: 0.762, loss_g: 3.511\n",
      "[1/100]: loss_d: 0.807, loss_g: 3.311\n",
      "[1/100]: loss_d: 0.808, loss_g: 3.422\n",
      "[2/100]: loss_d: 0.847, loss_g: 1.499\n",
      "[2/100]: loss_d: 0.798, loss_g: 1.953\n",
      "[2/100]: loss_d: 0.718, loss_g: 2.519\n",
      "[2/100]: loss_d: 0.898, loss_g: 2.314\n",
      "[2/100]: loss_d: 0.873, loss_g: 2.320\n",
      "[2/100]: loss_d: 0.818, loss_g: 2.445\n",
      "[2/100]: loss_d: 0.870, loss_g: 2.280\n",
      "[2/100]: loss_d: 0.912, loss_g: 2.151\n",
      "[2/100]: loss_d: 0.935, loss_g: 2.088\n",
      "[2/100]: loss_d: 0.952, loss_g: 1.984\n",
      "[2/100]: loss_d: 0.971, loss_g: 1.901\n",
      "[2/100]: loss_d: 0.955, loss_g: 1.872\n",
      "[3/100]: loss_d: 0.533, loss_g: 3.627\n",
      "[3/100]: loss_d: 1.376, loss_g: 1.416\n",
      "[3/100]: loss_d: 1.070, loss_g: 1.535\n",
      "[3/100]: loss_d: 0.978, loss_g: 1.985\n",
      "[3/100]: loss_d: 0.885, loss_g: 2.137\n",
      "[3/100]: loss_d: 0.942, loss_g: 2.205\n",
      "[3/100]: loss_d: 0.921, loss_g: 2.234\n",
      "[3/100]: loss_d: 0.877, loss_g: 2.192\n",
      "[3/100]: loss_d: 0.825, loss_g: 2.289\n",
      "[3/100]: loss_d: 0.831, loss_g: 2.274\n",
      "[3/100]: loss_d: 0.803, loss_g: 2.338\n",
      "[3/100]: loss_d: 0.769, loss_g: 2.514\n",
      "[4/100]: loss_d: 0.379, loss_g: 2.926\n",
      "[4/100]: loss_d: 0.463, loss_g: 2.979\n",
      "[4/100]: loss_d: 0.552, loss_g: 3.069\n",
      "[4/100]: loss_d: 0.565, loss_g: 2.983\n",
      "[4/100]: loss_d: 0.565, loss_g: 3.015\n",
      "[4/100]: loss_d: 0.545, loss_g: 3.088\n",
      "[4/100]: loss_d: 0.526, loss_g: 3.067\n",
      "[4/100]: loss_d: 0.492, loss_g: 3.249\n",
      "[4/100]: loss_d: 0.491, loss_g: 3.263\n",
      "[4/100]: loss_d: 0.490, loss_g: 3.315\n",
      "[4/100]: loss_d: 0.496, loss_g: 3.383\n",
      "[4/100]: loss_d: 0.497, loss_g: 3.373\n",
      "[5/100]: loss_d: 0.390, loss_g: 3.006\n",
      "[5/100]: loss_d: 0.570, loss_g: 2.357\n",
      "[5/100]: loss_d: 0.570, loss_g: 2.843\n",
      "[5/100]: loss_d: 0.561, loss_g: 2.994\n",
      "[5/100]: loss_d: 0.513, loss_g: 3.132\n",
      "[5/100]: loss_d: 0.507, loss_g: 3.250\n",
      "[5/100]: loss_d: 0.480, loss_g: 3.304\n",
      "[5/100]: loss_d: 0.480, loss_g: 3.264\n",
      "[5/100]: loss_d: 0.477, loss_g: 3.264\n",
      "[5/100]: loss_d: 0.494, loss_g: 3.271\n",
      "[5/100]: loss_d: 0.501, loss_g: 3.235\n"
     ]
    }
   ],
   "source": [
    "n_epoch = 100\n",
    "for e in range(1, n_epoch+1):\n",
    "    D_losses, G_losses = [], []\n",
    "    \n",
    "    for batch_idx, (x, _) in enumerate(train_loader):\n",
    "        D_losses.append(D_train(x))\n",
    "        G_losses.append(G_train(x))\n",
    "\n",
    "        if batch_idx % 50 == 0:\n",
    "            print('[%d/%d]: loss_d: %.3f, loss_g: %.3f' % (\n",
    "                (e), n_epoch, torch.mean(torch.FloatTensor(D_losses)), torch.mean(torch.FloatTensor(G_losses))))\n",
    "        \n",
    "    test_z = Variable(torch.randn(1, z_dim).to(device))\n",
    "    generated_samples = G(test_z)\n",
    "    save_image(generated_samples.view(generated_samples.size(0),1,28,28), 'sample_'+str(e)+'.png')\n"
   ]
  },
  {
   "cell_type": "code",
   "execution_count": null,
   "metadata": {},
   "outputs": [],
   "source": []
  }
 ],
 "metadata": {
  "kernelspec": {
   "display_name": "Python 3",
   "language": "python",
   "name": "python3"
  },
  "language_info": {
   "codemirror_mode": {
    "name": "ipython",
    "version": 3
   },
   "file_extension": ".py",
   "mimetype": "text/x-python",
   "name": "python",
   "nbconvert_exporter": "python",
   "pygments_lexer": "ipython3",
   "version": "3.6.8"
  }
 },
 "nbformat": 4,
 "nbformat_minor": 2
}
