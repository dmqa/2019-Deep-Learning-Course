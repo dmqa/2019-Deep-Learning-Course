{
 "cells": [
  {
   "cell_type": "markdown",
   "metadata": {},
   "source": [
    "# 실습 내용 : GAN MNIST 실습"
   ]
  },
  {
   "cell_type": "markdown",
   "metadata": {},
   "source": [
    " 본 실습은 DCGAN(Deep Convolutional Generative Adversarial Network)를 기반으로 하는 GAN모델을 이용해, MNIST 데이터를 생성해보려 한다. 또한 해당 코드는 PyTorch Tutorial을 기반으로 함을 사전에 언급한다."
   ]
  },
  {
   "cell_type": "markdown",
   "metadata": {},
   "source": [
    "## DCGAN 실습"
   ]
  },
  {
   "cell_type": "markdown",
   "metadata": {},
   "source": [
    "### - 필요한 패키지들 불러오기"
   ]
  },
  {
   "cell_type": "code",
   "execution_count": 1,
   "metadata": {},
   "outputs": [],
   "source": [
    "import os,warnings\n",
    "warnings.filterwarnings('ignore')\n",
    "import torch\n",
    "from torch.autograd import Variable\n",
    "import torchvision.datasets as dsets\n",
    "import torchvision.transforms as transforms\n",
    "import numpy as np\n",
    "import matplotlib.pyplot as plt\n",
    "\n",
    "import imageio"
   ]
  },
  {
   "cell_type": "markdown",
   "metadata": {},
   "source": [
    "해당 실습을 진행하기 위한 주소를 지정해보도록 하겠다. 해당 폴더에는 생성한 MNIST데이터를 저장하려한다."
   ]
  },
  {
   "cell_type": "code",
   "execution_count": 2,
   "metadata": {},
   "outputs": [],
   "source": [
    "ROOT_DIR = \"D:\\\\PROJECT\\\\2019_Education_DL\\\\GAN\"\n",
    "os.chdir(ROOT_DIR)"
   ]
  },
  {
   "cell_type": "markdown",
   "metadata": {},
   "source": [
    "추가적으로 GAN을 이용할 때, CPU를 이용해 생성하는 것보다 GPU를 이용한다면 빠르게 생성과 학습이 가능하기 때문에, GPU와 PyTorch가 연동이 되는지 우선적으로 확인한다. True값이 출력된다면, PyTorch로 연산을 진행 할 때, GPU가 사용가능하다는 것이다."
   ]
  },
  {
   "cell_type": "code",
   "execution_count": 3,
   "metadata": {},
   "outputs": [
    {
     "data": {
      "text/plain": [
       "True"
      ]
     },
     "execution_count": 3,
     "metadata": {},
     "output_type": "execute_result"
    }
   ],
   "source": [
    "torch.cuda.is_available()"
   ]
  },
  {
   "cell_type": "code",
   "execution_count": 4,
   "metadata": {},
   "outputs": [],
   "source": [
    "def denorm(x):\n",
    "    out = (x + 1) / 2\n",
    "    return out.clamp(0, 1)"
   ]
  },
  {
   "cell_type": "markdown",
   "metadata": {},
   "source": [
    "#### Generator Class를 생성하는 코드"
   ]
  },
  {
   "cell_type": "markdown",
   "metadata": {},
   "source": [
    "PyTorch의 인공 신경망 모형(Neural Network)은 클래스를 통해 생성한다."
   ]
  },
  {
   "cell_type": "code",
   "execution_count": 5,
   "metadata": {},
   "outputs": [],
   "source": [
    "class Generator(torch.nn.Module):\n",
    "    def __init__(self, input_dim, num_filters, output_dim):\n",
    "        super(Generator, self).__init__()\n",
    "\n",
    "        \n",
    "        self.hidden_layer = torch.nn.Sequential()\n",
    "        for i in range(len(num_filters)):\n",
    "            \n",
    "            if i == 0:\n",
    "                deconv = torch.nn.ConvTranspose2d(input_dim, num_filters[i], kernel_size=4, stride=1, padding=0)\n",
    "            else:\n",
    "                deconv = torch.nn.ConvTranspose2d(num_filters[i-1], num_filters[i], kernel_size=4, stride=2, padding=1)\n",
    "\n",
    "            deconv_name = 'deconv' + str(i + 1)\n",
    "            self.hidden_layer.add_module(deconv_name, deconv)\n",
    "\n",
    "            \n",
    "            torch.nn.init.normal(deconv.weight, mean=0.0, std=0.02)\n",
    "            torch.nn.init.constant(deconv.bias, 0.0)\n",
    "\n",
    "            \n",
    "            bn_name = 'bn' + str(i + 1)\n",
    "            self.hidden_layer.add_module(bn_name, torch.nn.BatchNorm2d(num_filters[i]))\n",
    "\n",
    "            \n",
    "            act_name = 'act' + str(i + 1)\n",
    "            self.hidden_layer.add_module(act_name, torch.nn.ReLU())\n",
    "\n",
    "        \n",
    "        self.output_layer = torch.nn.Sequential()\n",
    "        \n",
    "        out = torch.nn.ConvTranspose2d(num_filters[i], output_dim, kernel_size=4, stride=2, padding=1)\n",
    "        self.output_layer.add_module('out', out)\n",
    "        \n",
    "        torch.nn.init.normal(out.weight, mean=0.0, std=0.02)\n",
    "        torch.nn.init.constant(out.bias, 0.0)\n",
    "        \n",
    "        self.output_layer.add_module('act', torch.nn.Tanh())\n",
    "\n",
    "    def forward(self, x):\n",
    "        h = self.hidden_layer(x)\n",
    "        out = self.output_layer(h)\n",
    "        return out"
   ]
  },
  {
   "cell_type": "markdown",
   "metadata": {},
   "source": [
    "#### Discriminator Class를 생성하는 코드"
   ]
  },
  {
   "cell_type": "code",
   "execution_count": 6,
   "metadata": {},
   "outputs": [],
   "source": [
    "class Discriminator(torch.nn.Module):\n",
    "    def __init__(self, input_dim, num_filters, output_dim):\n",
    "        super(Discriminator, self).__init__()\n",
    "\n",
    "        \n",
    "        self.hidden_layer = torch.nn.Sequential()\n",
    "        for i in range(len(num_filters)):\n",
    "            \n",
    "            if i == 0:\n",
    "                conv = torch.nn.Conv2d(input_dim, num_filters[i], kernel_size=4, stride=2, padding=1)\n",
    "            else:\n",
    "                conv = torch.nn.Conv2d(num_filters[i-1], num_filters[i], kernel_size=4, stride=2, padding=1)\n",
    "\n",
    "            conv_name = 'conv' + str(i + 1)\n",
    "            self.hidden_layer.add_module(conv_name, conv)\n",
    "\n",
    "            \n",
    "            torch.nn.init.normal(conv.weight, mean=0.0, std=0.02)\n",
    "            torch.nn.init.constant(conv.bias, 0.0)\n",
    "\n",
    "            \n",
    "            if i != 0:\n",
    "                bn_name = 'bn' + str(i + 1)\n",
    "                self.hidden_layer.add_module(bn_name, torch.nn.BatchNorm2d(num_filters[i]))\n",
    "\n",
    "            \n",
    "            act_name = 'act' + str(i + 1)\n",
    "            self.hidden_layer.add_module(act_name, torch.nn.LeakyReLU(0.2))\n",
    "\n",
    "        \n",
    "        self.output_layer = torch.nn.Sequential()\n",
    "        \n",
    "        out = torch.nn.Conv2d(num_filters[i], output_dim, kernel_size=4, stride=1, padding=0)\n",
    "        self.output_layer.add_module('out', out)\n",
    "        \n",
    "        torch.nn.init.normal(out.weight, mean=0.0, std=0.02)\n",
    "        torch.nn.init.constant(out.bias, 0.0)\n",
    "        \n",
    "        self.output_layer.add_module('act', torch.nn.Sigmoid())\n",
    "\n",
    "    def forward(self, x):\n",
    "        h = self.hidden_layer(x)\n",
    "        out = self.output_layer(h)\n",
    "        return out"
   ]
  },
  {
   "cell_type": "markdown",
   "metadata": {},
   "source": [
    "weight 설정"
   ]
  },
  {
   "cell_type": "code",
   "execution_count": 7,
   "metadata": {},
   "outputs": [],
   "source": [
    "def normal_init(m, mean, std):\n",
    "    if isinstance(m, nn.ConvTranspose2d) or isinstance(m, nn.Conv2d):\n",
    "        m.weight.data.normal_(mean, std)\n",
    "        m.bias.data.zero_()"
   ]
  },
  {
   "cell_type": "markdown",
   "metadata": {},
   "source": [
    "Latent Space 결정하기"
   ]
  },
  {
   "cell_type": "code",
   "execution_count": 8,
   "metadata": {},
   "outputs": [],
   "source": [
    "fixed_z_ = torch.randn((5 * 5, 100)).view(-1, 100, 1, 1)\n",
    "fixed_z_ = Variable(fixed_z_.cuda())"
   ]
  },
  {
   "cell_type": "markdown",
   "metadata": {},
   "source": [
    "Loss 확인하는 그림 그리는 함수"
   ]
  },
  {
   "cell_type": "code",
   "execution_count": 9,
   "metadata": {},
   "outputs": [],
   "source": [
    "def plot_loss(d_losses, g_losses, num_epoch, save=False, save_dir='./MNIST_DCGAN_results/', show=False):\n",
    "    fig, ax = plt.subplots()\n",
    "    ax.set_xlim(0, num_epochs)\n",
    "    ax.set_ylim(0, max(np.max(g_losses), np.max(d_losses))*1.1)\n",
    "    plt.xlabel('Epoch {0}'.format(num_epoch + 1))\n",
    "    plt.ylabel('Loss values')\n",
    "    plt.plot(d_losses, label='Discriminator')\n",
    "    plt.plot(g_losses, label='Generator')\n",
    "    plt.legend()\n",
    "\n",
    "    # save figure\n",
    "    if save:\n",
    "        if not os.path.exists(save_dir):\n",
    "            os.mkdir(save_dir)\n",
    "        save_fn = save_dir + 'MNIST_DCGAN_losses_epoch_{:d}'.format(num_epoch + 1) + '.png'\n",
    "        plt.savefig(save_fn)\n",
    "\n",
    "    if show:\n",
    "        plt.show()\n",
    "    else:\n",
    "        plt.close()\n"
   ]
  },
  {
   "cell_type": "markdown",
   "metadata": {},
   "source": [
    "생성 결과를 확인하는 그림 그리는 함수"
   ]
  },
  {
   "cell_type": "code",
   "execution_count": 10,
   "metadata": {},
   "outputs": [],
   "source": [
    "def plot_result(generator, noise, num_epoch, save=False, save_dir='./MNIST_DCGAN_results/', show=False, fig_size=(5, 5)):\n",
    "    generator.eval()\n",
    "\n",
    "    noise = Variable(noise.cuda())\n",
    "    gen_image = generator(noise)\n",
    "    gen_image = denorm(gen_image)\n",
    "\n",
    "    generator.train()\n",
    "\n",
    "    n_rows = np.sqrt(noise.size()[0]).astype(np.int32)\n",
    "    n_cols = np.sqrt(noise.size()[0]).astype(np.int32)\n",
    "    fig, axes = plt.subplots(n_rows, n_cols, figsize=fig_size)\n",
    "    for ax, img in zip(axes.flatten(), gen_image):\n",
    "        ax.axis('off')\n",
    "        ax.set_adjustable('box-forced')\n",
    "        ax.imshow(img.cpu().data.view(image_size, image_size).numpy(), cmap='gray', aspect='equal')\n",
    "    plt.subplots_adjust(wspace=0, hspace=0)\n",
    "    title = 'Epoch {0}'.format(num_epoch+1)\n",
    "    fig.text(0.5, 0.04, title, ha='center')\n",
    "\n",
    "    # save figure\n",
    "    if save:\n",
    "        if not os.path.exists(save_dir):\n",
    "            os.mkdir(save_dir)\n",
    "        save_fn = save_dir + 'MNIST_DCGAN_epoch_{:d}'.format(num_epoch+1) + '.png'\n",
    "        plt.savefig(save_fn)\n",
    "\n",
    "    if show:\n",
    "        plt.show()\n",
    "    else:\n",
    "        plt.close()\n"
   ]
  },
  {
   "cell_type": "markdown",
   "metadata": {},
   "source": [
    "Hyperparameter 지정하기"
   ]
  },
  {
   "cell_type": "code",
   "execution_count": 12,
   "metadata": {},
   "outputs": [],
   "source": [
    "image_size = 64\n",
    "G_input_dim = 100\n",
    "G_output_dim = 1\n",
    "D_input_dim = 1\n",
    "D_output_dim = 1\n",
    "num_filters = [1024, 512, 256, 128]\n",
    "# num_filters = [256, 128]"
   ]
  },
  {
   "cell_type": "code",
   "execution_count": 13,
   "metadata": {},
   "outputs": [],
   "source": [
    "learning_rate = 0.0002\n",
    "betas = (0.5, 0.999)\n",
    "batch_size = 512\n",
    "num_epochs = 20\n",
    "DATA_DIR = '../Data/MNIST_data/'\n",
    "SAVE_DIR = 'MNIST_DCGAN_results/'"
   ]
  },
  {
   "cell_type": "code",
   "execution_count": 14,
   "metadata": {},
   "outputs": [],
   "source": [
    "transform = transforms.Compose([transforms.Resize(image_size),\n",
    "                                transforms.ToTensor(),\n",
    "                                transforms.Normalize(mean=(0.5, ), std=(0.5, ))])"
   ]
  },
  {
   "cell_type": "markdown",
   "metadata": {},
   "source": [
    "MNIST Data Download 및 Kernel에 업로드"
   ]
  },
  {
   "cell_type": "code",
   "execution_count": 15,
   "metadata": {},
   "outputs": [],
   "source": [
    "mnist_data = dsets.MNIST(root=DATA_DIR,\n",
    "                         train=True,\n",
    "                         transform=transform,\n",
    "                         download=True)\n"
   ]
  },
  {
   "cell_type": "code",
   "execution_count": 16,
   "metadata": {},
   "outputs": [],
   "source": [
    "data_loader = torch.utils.data.DataLoader(dataset=mnist_data,\n",
    "                                          batch_size=batch_size,\n",
    "                                          shuffle=True)"
   ]
  },
  {
   "cell_type": "markdown",
   "metadata": {},
   "source": [
    "#### Generator/ Discriminator 생성 및 초기화"
   ]
  },
  {
   "cell_type": "code",
   "execution_count": 17,
   "metadata": {},
   "outputs": [],
   "source": [
    "G = Generator(G_input_dim, num_filters, G_output_dim)\n",
    "D = Discriminator(D_input_dim, num_filters[::-1], D_output_dim)"
   ]
  },
  {
   "cell_type": "code",
   "execution_count": 18,
   "metadata": {},
   "outputs": [
    {
     "data": {
      "text/plain": [
       "Generator(\n",
       "  (hidden_layer): Sequential(\n",
       "    (deconv1): ConvTranspose2d(100, 1024, kernel_size=(4, 4), stride=(1, 1))\n",
       "    (bn1): BatchNorm2d(1024, eps=1e-05, momentum=0.1, affine=True, track_running_stats=True)\n",
       "    (act1): ReLU()\n",
       "    (deconv2): ConvTranspose2d(1024, 512, kernel_size=(4, 4), stride=(2, 2), padding=(1, 1))\n",
       "    (bn2): BatchNorm2d(512, eps=1e-05, momentum=0.1, affine=True, track_running_stats=True)\n",
       "    (act2): ReLU()\n",
       "    (deconv3): ConvTranspose2d(512, 256, kernel_size=(4, 4), stride=(2, 2), padding=(1, 1))\n",
       "    (bn3): BatchNorm2d(256, eps=1e-05, momentum=0.1, affine=True, track_running_stats=True)\n",
       "    (act3): ReLU()\n",
       "    (deconv4): ConvTranspose2d(256, 128, kernel_size=(4, 4), stride=(2, 2), padding=(1, 1))\n",
       "    (bn4): BatchNorm2d(128, eps=1e-05, momentum=0.1, affine=True, track_running_stats=True)\n",
       "    (act4): ReLU()\n",
       "  )\n",
       "  (output_layer): Sequential(\n",
       "    (out): ConvTranspose2d(128, 1, kernel_size=(4, 4), stride=(2, 2), padding=(1, 1))\n",
       "    (act): Tanh()\n",
       "  )\n",
       ")"
      ]
     },
     "execution_count": 18,
     "metadata": {},
     "output_type": "execute_result"
    }
   ],
   "source": [
    "G.cuda()"
   ]
  },
  {
   "cell_type": "code",
   "execution_count": 19,
   "metadata": {},
   "outputs": [
    {
     "data": {
      "text/plain": [
       "Discriminator(\n",
       "  (hidden_layer): Sequential(\n",
       "    (conv1): Conv2d(1, 128, kernel_size=(4, 4), stride=(2, 2), padding=(1, 1))\n",
       "    (act1): LeakyReLU(negative_slope=0.2)\n",
       "    (conv2): Conv2d(128, 256, kernel_size=(4, 4), stride=(2, 2), padding=(1, 1))\n",
       "    (bn2): BatchNorm2d(256, eps=1e-05, momentum=0.1, affine=True, track_running_stats=True)\n",
       "    (act2): LeakyReLU(negative_slope=0.2)\n",
       "    (conv3): Conv2d(256, 512, kernel_size=(4, 4), stride=(2, 2), padding=(1, 1))\n",
       "    (bn3): BatchNorm2d(512, eps=1e-05, momentum=0.1, affine=True, track_running_stats=True)\n",
       "    (act3): LeakyReLU(negative_slope=0.2)\n",
       "    (conv4): Conv2d(512, 1024, kernel_size=(4, 4), stride=(2, 2), padding=(1, 1))\n",
       "    (bn4): BatchNorm2d(1024, eps=1e-05, momentum=0.1, affine=True, track_running_stats=True)\n",
       "    (act4): LeakyReLU(negative_slope=0.2)\n",
       "  )\n",
       "  (output_layer): Sequential(\n",
       "    (out): Conv2d(1024, 1, kernel_size=(4, 4), stride=(1, 1))\n",
       "    (act): Sigmoid()\n",
       "  )\n",
       ")"
      ]
     },
     "execution_count": 19,
     "metadata": {},
     "output_type": "execute_result"
    }
   ],
   "source": [
    "D.cuda()"
   ]
  },
  {
   "cell_type": "code",
   "execution_count": 20,
   "metadata": {},
   "outputs": [],
   "source": [
    "criterion = torch.nn.BCELoss()"
   ]
  },
  {
   "cell_type": "code",
   "execution_count": 21,
   "metadata": {},
   "outputs": [],
   "source": [
    "G_optimizer = torch.optim.Adam(G.parameters(), lr=learning_rate, betas=betas)\n",
    "D_optimizer = torch.optim.Adam(D.parameters(), lr=learning_rate, betas=betas)"
   ]
  },
  {
   "cell_type": "code",
   "execution_count": 22,
   "metadata": {},
   "outputs": [],
   "source": [
    "if not os.path.isdir('MNIST_DCGAN_results'):\n",
    "    os.mkdir('MNIST_DCGAN_results')\n",
    "if not os.path.isdir('MNIST_DCGAN_results/Random_results'):\n",
    "    os.mkdir('MNIST_DCGAN_results/Random_results')\n",
    "if not os.path.isdir('MNIST_DCGAN_results/Fixed_results'):\n",
    "    os.mkdir('MNIST_DCGAN_results/Fixed_results')"
   ]
  },
  {
   "cell_type": "code",
   "execution_count": 23,
   "metadata": {},
   "outputs": [],
   "source": [
    "D_avg_losses = []\n",
    "G_avg_losses = []\n"
   ]
  },
  {
   "cell_type": "code",
   "execution_count": 24,
   "metadata": {},
   "outputs": [],
   "source": [
    "num_test_samples = 5*5\n",
    "fixed_noise = torch.randn(num_test_samples, G_input_dim).view(-1, G_input_dim, 1, 1)"
   ]
  },
  {
   "cell_type": "code",
   "execution_count": null,
   "metadata": {
    "scrolled": true
   },
   "outputs": [
    {
     "name": "stdout",
     "output_type": "stream",
     "text": [
      "Epoch [1/20], Step [1/118], D_loss: 2.2669, G_loss: 2.8212\n",
      "Epoch [1/20], Step [2/118], D_loss: 3.7245, G_loss: 4.2486\n",
      "Epoch [1/20], Step [3/118], D_loss: 1.3690, G_loss: 8.2604\n",
      "Epoch [1/20], Step [4/118], D_loss: 0.1246, G_loss: 7.8901\n",
      "Epoch [1/20], Step [5/118], D_loss: 0.3469, G_loss: 8.2984\n",
      "Epoch [1/20], Step [6/118], D_loss: 0.2251, G_loss: 8.4135\n",
      "Epoch [1/20], Step [7/118], D_loss: 0.1850, G_loss: 8.9105\n",
      "Epoch [1/20], Step [8/118], D_loss: 0.0806, G_loss: 8.1014\n",
      "Epoch [1/20], Step [9/118], D_loss: 0.1701, G_loss: 9.9637\n",
      "Epoch [1/20], Step [10/118], D_loss: 0.0520, G_loss: 8.7435\n",
      "Epoch [1/20], Step [11/118], D_loss: 0.2666, G_loss: 13.9620\n",
      "Epoch [1/20], Step [12/118], D_loss: 0.0675, G_loss: 12.4994\n",
      "Epoch [1/20], Step [13/118], D_loss: 0.0422, G_loss: 7.3212\n",
      "Epoch [1/20], Step [14/118], D_loss: 1.3958, G_loss: 24.7287\n",
      "Epoch [1/20], Step [15/118], D_loss: 1.6080, G_loss: 22.6364\n",
      "Epoch [1/20], Step [16/118], D_loss: 0.0020, G_loss: 10.2973\n"
     ]
    }
   ],
   "source": [
    "for epoch in range(num_epochs):\n",
    "    D_losses = []\n",
    "    G_losses = []\n",
    "\n",
    "    # minibatch training\n",
    "    for i, (images, _) in enumerate(data_loader):\n",
    "\n",
    "        # image data\n",
    "        mini_batch = images.size()[0]\n",
    "        \n",
    "        # 만약 GAN(인공신경망 구조만 사용) 한다면 Input의 변화 필요\n",
    "        # x_ = x_.view(-1, image_size*image_size)\n",
    "        \n",
    "        x_ = Variable(images.cuda())\n",
    "\n",
    "        # labels\n",
    "        y_real_ = Variable(torch.ones(mini_batch).cuda())\n",
    "        y_fake_ = Variable(torch.zeros(mini_batch).cuda())\n",
    "\n",
    "        \n",
    "\n",
    "        D_real_decision = D(x_).squeeze()\n",
    "        # print(D_real_decision, y_real_)\n",
    "        D_real_loss = criterion(D_real_decision, y_real_)\n",
    "\n",
    "        \n",
    "        z_ = torch.randn(mini_batch, G_input_dim).view(-1, G_input_dim, 1, 1)\n",
    "        z_ = Variable(z_.cuda())\n",
    "        gen_image = G(z_)\n",
    "\n",
    "        D_fake_decision = D(gen_image).squeeze()\n",
    "        D_fake_loss = criterion(D_fake_decision, y_fake_)\n",
    "\n",
    "        \n",
    "        D_loss = D_real_loss + D_fake_loss\n",
    "        D.zero_grad()\n",
    "        D_loss.backward()\n",
    "        D_optimizer.step()\n",
    "\n",
    "        \n",
    "        z_ = torch.randn(mini_batch, G_input_dim).view(-1, G_input_dim, 1, 1)\n",
    "        z_ = Variable(z_.cuda())\n",
    "        gen_image = G(z_)\n",
    "\n",
    "        D_fake_decision = D(gen_image).squeeze()\n",
    "        G_loss = criterion(D_fake_decision, y_real_)\n",
    "\n",
    "        \n",
    "        D.zero_grad()\n",
    "        G.zero_grad()\n",
    "        G_loss.backward()\n",
    "        G_optimizer.step()\n",
    "\n",
    "        \n",
    "        D_losses.append(D_loss.item())\n",
    "        G_losses.append(G_loss.item())\n",
    "\n",
    "        print('Epoch [%d/%d], Step [%d/%d], D_loss: %.4f, G_loss: %.4f'\n",
    "              % (epoch+1, num_epochs, i+1, len(data_loader), D_loss.item(), G_loss.item()))\n",
    "\n",
    "    D_avg_loss = torch.mean(torch.FloatTensor(D_losses))\n",
    "    G_avg_loss = torch.mean(torch.FloatTensor(G_losses))\n",
    "\n",
    "    \n",
    "    D_avg_losses.append(D_avg_loss)\n",
    "    G_avg_losses.append(G_avg_loss)\n",
    "\n",
    "    plot_loss(D_avg_losses, G_avg_losses, epoch, save=True)\n",
    "\n",
    "    \n",
    "    plot_result(G, fixed_noise, epoch, save=True, fig_size=(5, 5))"
   ]
  }
 ],
 "metadata": {
  "kernelspec": {
   "display_name": "Python 3",
   "language": "python",
   "name": "python3"
  },
  "language_info": {
   "codemirror_mode": {
    "name": "ipython",
    "version": 3
   },
   "file_extension": ".py",
   "mimetype": "text/x-python",
   "name": "python",
   "nbconvert_exporter": "python",
   "pygments_lexer": "ipython3",
   "version": "3.6.8"
  }
 },
 "nbformat": 4,
 "nbformat_minor": 2
}
